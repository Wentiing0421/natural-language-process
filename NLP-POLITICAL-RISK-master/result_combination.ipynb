{
 "cells": [
  {
   "cell_type": "code",
   "execution_count": null,
   "metadata": {},
   "outputs": [],
   "source": [
    "import os\n",
    "import pandas as pd\n",
    "import re\n",
    "\n",
    "def combination(filenamelist,finalname):\n",
    "    df = pd.DataFrame()\n",
    "    for i in filenamelist:\n",
    "        f = pd.read_csv(i)\n",
    "        df = df.append(f, ignore_index = True)\n",
    "    df.to_csv(finalnamelist,index = False)\n",
    "def convertweekly(finalname, weeklyname):\n",
    "    data = pd.read_csv(finalname)\n",
    "    cols = list(data.columns)\n",
    "    col = cols[1:]\n",
    "    d7ma = pd.DataFrame()\n",
    "    d7ma['Date'] = data['Date']\n",
    "    for i in col:\n",
    "        d7ma[i]=data[i].rolling(7).mean()\n",
    "    d7ma.to_csv('AvgTone_arg201503-201603_weekly.csv',index = False)"
   ]
  },
  {
   "cell_type": "code",
   "execution_count": null,
   "metadata": {},
   "outputs": [],
   "source": [
    "result_piece = ['201503','201504','201505','201506','201507','201508','201509','201510','201511','201512','201601','201602','201603']\n",
    "filenamelist = []\n",
    "for i in range(len(result_piece)):\n",
    "    filenamelist.append('resultfilearg'+result_piece[i]+'engall.csv')#change the file name if needed"
   ]
  },
  {
   "cell_type": "code",
   "execution_count": null,
   "metadata": {},
   "outputs": [],
   "source": [
    "combination(filenamelist,'Resultfiletotaltone201503-201603daily.csv')\n",
    "convertweekly('Resultfiletotaltone201503-201603daily.csv','AvgTone_arg201503-201603_weekly.csv')"
   ]
  },
  {
   "cell_type": "code",
   "execution_count": null,
   "metadata": {},
   "outputs": [],
   "source": []
  }
 ],
 "metadata": {
  "kernelspec": {
   "display_name": "Python 3",
   "language": "python",
   "name": "python3"
  },
  "language_info": {
   "codemirror_mode": {
    "name": "ipython",
    "version": 3
   },
   "file_extension": ".py",
   "mimetype": "text/x-python",
   "name": "python",
   "nbconvert_exporter": "python",
   "pygments_lexer": "ipython3",
   "version": "3.7.1"
  }
 },
 "nbformat": 4,
 "nbformat_minor": 2
}
