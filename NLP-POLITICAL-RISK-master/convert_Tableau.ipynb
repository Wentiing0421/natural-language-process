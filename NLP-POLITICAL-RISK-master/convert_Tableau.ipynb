{
 "cells": [
  {
   "cell_type": "code",
   "execution_count": null,
   "metadata": {},
   "outputs": [],
   "source": [
    "import pandas as pd\n",
    "def convert_Tableau(inputfile, outputfile):\n",
    "    df = pd.read_csv(,index_col=0)\n",
    "    Goal =['NumNews','AvgTone','StdTone']\n",
    "    Language = ['All','Span','Eng','Lan']\n",
    "    Taxonomy = ['All','Cmp','Cty','Gov','Full']\n",
    "    l = list(df.columns.values)\n",
    "    combine = pd.DataFrame()\n",
    "    for i in Goal:\n",
    "        for k in Taxonomy:\n",
    "            for j in Language: \n",
    "                bb = df.filter(like=i+k+j)\n",
    "                bb['Language'] =j \n",
    "                bb['Taxonomy'] = k\n",
    "                if (i+k+j) not in l: continue\n",
    "                bb.rename(columns={i+k+j:i}, inplace=True)\n",
    "                combine = combine.append(bb)\n",
    "    final=combine.sort_index()\n",
    "    final = final[['NumNews','AvgTone','StdTone','Language','Taxonomy']]\n",
    "    final = final.fillna(0)\n",
    "    final.to_csv(outputfile)"
   ]
  },
  {
   "cell_type": "code",
   "execution_count": null,
   "metadata": {},
   "outputs": [],
   "source": [
    "inputfile = 'AvgTone_arg201503-201603_weekly.csv'\n",
    "outputfile = 'AvgTone_arg201503-201603weekly_Tableau.csv'\n",
    "convert_Tableau(inputfile,outputfile)"
   ]
  }
 ],
 "metadata": {
  "kernelspec": {
   "display_name": "Python 3",
   "language": "python",
   "name": "python3"
  },
  "language_info": {
   "codemirror_mode": {
    "name": "ipython",
    "version": 3
   },
   "file_extension": ".py",
   "mimetype": "text/x-python",
   "name": "python",
   "nbconvert_exporter": "python",
   "pygments_lexer": "ipython3",
   "version": "3.7.3"
  }
 },
 "nbformat": 4,
 "nbformat_minor": 2
}
