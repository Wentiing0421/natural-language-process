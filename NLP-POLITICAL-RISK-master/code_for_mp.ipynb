{
 "cells": [
  {
   "cell_type": "code",
   "execution_count": null,
   "metadata": {
    "collapsed": true
   },
   "outputs": [],
   "source": [
    "import multiprocessing as mp\n",
    "from pickle_cleaning import *\n",
    "from time import ctime"
   ]
  },
  {
   "cell_type": "code",
   "execution_count": null,
   "metadata": {
    "collapsed": true
   },
   "outputs": [],
   "source": [
    "if __name__ == '__main__':\n",
    "    jobs = []\n",
    "    print(ctime())\n",
    "    Date_file = ['201503','201504','201505','201506','201507','201508','201509','201510','201511','201512'] #YearMonth needed\n",
    "    for i in range(len(Date_file)):\n",
    "        p = mp.Process(target=pickle_cleaning, args=('arg'+Date_file[i]+'.csv','arg'+Date_file[i]+'data.p'))\n",
    "        jobs.append(p)\n",
    "        p.start()\n",
    "    print(ctime()+'end')"
   ]
  }
 ],
 "metadata": {
  "kernelspec": {
   "display_name": "Python 3",
   "language": "python",
   "name": "python3"
  },
  "language_info": {
   "codemirror_mode": {
    "name": "ipython",
    "version": 3
   },
   "file_extension": ".py",
   "mimetype": "text/x-python",
   "name": "python",
   "nbconvert_exporter": "python",
   "pygments_lexer": "ipython3",
   "version": "3.6.3"
  }
 },
 "nbformat": 4,
 "nbformat_minor": 2
}
