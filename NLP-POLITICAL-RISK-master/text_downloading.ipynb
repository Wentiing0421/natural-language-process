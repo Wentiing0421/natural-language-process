{
 "cells": [
  {
   "cell_type": "code",
   "execution_count": null,
   "metadata": {},
   "outputs": [],
   "source": [
    "import pandas as pd\n",
    "import os\n",
    "import requests, zipfile, io\n",
    "import re\n",
    "import datetime\n",
    "import string\n",
    "import time\n",
    "import glob\n",
    "from glob import iglob\n",
    "from datetime import datetime\n",
    "import newspaper\n",
    "from newspaper import Article\n",
    "import pickle\n",
    "import csv\n",
    "from langdetect import detect\n",
    "from pickle_cleaning import *"
   ]
  },
  {
   "cell_type": "code",
   "execution_count": null,
   "metadata": {},
   "outputs": [],
   "source": [
    "def pickletext_downloading(picklefilename,rename):\n",
    "    language_list = []\n",
    "    with open(picklefilename,'rb') as PickleFiles:\n",
    "        news_list = pickle.loads(PickleFiles.read())\n",
    "    for story in news_list:\n",
    "        story.clean_text()\n",
    "        if story.get_text() == None:\n",
    "            pass\n",
    "        else:\n",
    "            try:\n",
    "                detect(story.text)\n",
    "                language_list.append(detect(story.text))\n",
    "                print(detect(story.text))\n",
    "            except:\n",
    "                print(\"error\")\n",
    "    pickle.dump(news_list, open(rename,'wb'))\n",
    "    return language_list"
   ]
  },
  {
   "cell_type": "code",
   "execution_count": null,
   "metadata": {},
   "outputs": [],
   "source": [
    "language_list = pickletext_downloading('arg20150830eng.p','arg20150830.p')"
   ]
  }
 ],
 "metadata": {
  "kernelspec": {
   "display_name": "Python 3",
   "language": "python",
   "name": "python3"
  },
  "language_info": {
   "codemirror_mode": {
    "name": "ipython",
    "version": 3
   },
   "file_extension": ".py",
   "mimetype": "text/x-python",
   "name": "python",
   "nbconvert_exporter": "python",
   "pygments_lexer": "ipython3",
   "version": "3.7.3"
  }
 },
 "nbformat": 4,
 "nbformat_minor": 2
}
